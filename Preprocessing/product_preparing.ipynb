{
 "cells": [
  {
   "cell_type": "markdown",
   "id": "bfedd75e",
   "metadata": {},
   "source": [
    "# 1. Setup"
   ]
  },
  {
   "cell_type": "code",
   "execution_count": 1,
   "id": "00b2ae26",
   "metadata": {},
   "outputs": [
    {
     "data": {
      "text/plain": [
       "'e:\\\\Data Driven mkt\\\\Midterm 2'"
      ]
     },
     "execution_count": 1,
     "metadata": {},
     "output_type": "execute_result"
    }
   ],
   "source": [
    "import os \n",
    "os.chdir('..')\n",
    "os.getcwd()"
   ]
  },
  {
   "cell_type": "code",
   "execution_count": 2,
   "id": "86bca6f4",
   "metadata": {},
   "outputs": [],
   "source": [
    "import numpy as np\n",
    "import pandas as pd"
   ]
  },
  {
   "cell_type": "code",
   "execution_count": 3,
   "id": "f18aa285",
   "metadata": {},
   "outputs": [],
   "source": [
    "df = pd.read_csv(f'Data/raw/product_info.csv', low_memory=False)"
   ]
  },
  {
   "cell_type": "markdown",
   "id": "ffe9224b",
   "metadata": {},
   "source": [
    "# 2. Cleaning"
   ]
  },
  {
   "cell_type": "code",
   "execution_count": 4,
   "id": "8db4c922",
   "metadata": {},
   "outputs": [
    {
     "name": "stdout",
     "output_type": "stream",
     "text": [
      "<class 'pandas.core.frame.DataFrame'>\n",
      "RangeIndex: 8494 entries, 0 to 8493\n",
      "Data columns (total 27 columns):\n",
      " #   Column              Non-Null Count  Dtype  \n",
      "---  ------              --------------  -----  \n",
      " 0   product_id          8494 non-null   object \n",
      " 1   product_name        8494 non-null   object \n",
      " 2   brand_id            8494 non-null   int64  \n",
      " 3   brand_name          8494 non-null   object \n",
      " 4   loves_count         8494 non-null   int64  \n",
      " 5   rating              8216 non-null   float64\n",
      " 6   reviews             8216 non-null   float64\n",
      " 7   size                6863 non-null   object \n",
      " 8   variation_type      7050 non-null   object \n",
      " 9   variation_value     6896 non-null   object \n",
      " 10  variation_desc      1250 non-null   object \n",
      " 11  ingredients         7549 non-null   object \n",
      " 12  price_usd           8494 non-null   float64\n",
      " 13  value_price_usd     451 non-null    float64\n",
      " 14  sale_price_usd      270 non-null    float64\n",
      " 15  limited_edition     8494 non-null   int64  \n",
      " 16  new                 8494 non-null   int64  \n",
      " 17  online_only         8494 non-null   int64  \n",
      " 18  out_of_stock        8494 non-null   int64  \n",
      " 19  sephora_exclusive   8494 non-null   int64  \n",
      " 20  highlights          6287 non-null   object \n",
      " 21  primary_category    8494 non-null   object \n",
      " 22  secondary_category  8486 non-null   object \n",
      " 23  tertiary_category   7504 non-null   object \n",
      " 24  child_count         8494 non-null   int64  \n",
      " 25  child_max_price     2754 non-null   float64\n",
      " 26  child_min_price     2754 non-null   float64\n",
      "dtypes: float64(7), int64(8), object(12)\n",
      "memory usage: 1.7+ MB\n"
     ]
    }
   ],
   "source": [
    "df.info()"
   ]
  },
  {
   "cell_type": "markdown",
   "id": "9bfd1d2b",
   "metadata": {},
   "source": [
    "## Numerical columns"
   ]
  },
  {
   "cell_type": "code",
   "execution_count": 5,
   "id": "d805f83b",
   "metadata": {},
   "outputs": [
    {
     "data": {
      "application/vnd.microsoft.datawrangler.viewer.v0+json": {
       "columns": [
        {
         "name": "index",
         "rawType": "object",
         "type": "string"
        },
        {
         "name": "brand_id",
         "rawType": "float64",
         "type": "float"
        },
        {
         "name": "loves_count",
         "rawType": "float64",
         "type": "float"
        },
        {
         "name": "rating",
         "rawType": "float64",
         "type": "float"
        },
        {
         "name": "reviews",
         "rawType": "float64",
         "type": "float"
        },
        {
         "name": "price_usd",
         "rawType": "float64",
         "type": "float"
        },
        {
         "name": "value_price_usd",
         "rawType": "float64",
         "type": "float"
        },
        {
         "name": "sale_price_usd",
         "rawType": "float64",
         "type": "float"
        },
        {
         "name": "limited_edition",
         "rawType": "float64",
         "type": "float"
        },
        {
         "name": "new",
         "rawType": "float64",
         "type": "float"
        },
        {
         "name": "online_only",
         "rawType": "float64",
         "type": "float"
        },
        {
         "name": "out_of_stock",
         "rawType": "float64",
         "type": "float"
        },
        {
         "name": "sephora_exclusive",
         "rawType": "float64",
         "type": "float"
        },
        {
         "name": "child_count",
         "rawType": "float64",
         "type": "float"
        },
        {
         "name": "child_max_price",
         "rawType": "float64",
         "type": "float"
        },
        {
         "name": "child_min_price",
         "rawType": "float64",
         "type": "float"
        }
       ],
       "conversionMethod": "pd.DataFrame",
       "ref": "f6cd3271-0efc-46b5-82bd-94c802f764a5",
       "rows": [
        [
         "count",
         "8494.0",
         "8494.0",
         "8216.0",
         "8216.0",
         "8494.0",
         "451.0",
         "270.0",
         "8494.0",
         "8494.0",
         "8494.0",
         "8494.0",
         "8494.0",
         "8494.0",
         "2754.0",
         "2754.0"
        ],
        [
         "mean",
         "5422.440546267954",
         "29179.56592889098",
         "4.194512889483933",
         "448.54552093476144",
         "51.65559453732046",
         "91.16853658536586",
         "20.20788888888889",
         "0.07028490699317165",
         "0.07169766894278314",
         "0.21909583235224864",
         "0.07369908170473276",
         "0.2793736755356722",
         "1.631622321638804",
         "53.79202251270879",
         "39.665802469135805"
        ],
        [
         "std",
         "1709.5959574892652",
         "66092.1225898942",
         "0.5166943756623877",
         "1101.982528886649",
         "53.669234407455846",
         "79.19563124923476",
         "24.327351924541045",
         "0.25564161010722064",
         "0.2580018409107232",
         "0.4136580638144016",
         "0.26129593405560303",
         "0.4487178731166009",
         "5.379469874574106",
         "58.76589354596094",
         "38.68572018546726"
        ],
        [
         "min",
         "1063.0",
         "0.0",
         "1.0",
         "1.0",
         "3.0",
         "0.0",
         "1.75",
         "0.0",
         "0.0",
         "0.0",
         "0.0",
         "0.0",
         "0.0",
         "3.0",
         "3.0"
        ],
        [
         "25%",
         "5333.0",
         "3758.0",
         "3.981725",
         "26.0",
         "25.0",
         "45.0",
         "8.0",
         "0.0",
         "0.0",
         "0.0",
         "0.0",
         "0.0",
         "0.0",
         "22.0",
         "19.0"
        ],
        [
         "50%",
         "6157.5",
         "9880.0",
         "4.289350000000001",
         "122.0",
         "35.0",
         "67.0",
         "14.0",
         "0.0",
         "0.0",
         "0.0",
         "0.0",
         "0.0",
         "0.0",
         "32.0",
         "28.0"
        ],
        [
         "75%",
         "6328.0",
         "26841.25",
         "4.530525",
         "418.0",
         "58.0",
         "108.5",
         "25.0",
         "0.0",
         "0.0",
         "0.0",
         "0.0",
         "1.0",
         "1.0",
         "59.0",
         "42.0"
        ],
        [
         "max",
         "8020.0",
         "1401068.0",
         "5.0",
         "21281.0",
         "1900.0",
         "617.0",
         "320.0",
         "1.0",
         "1.0",
         "1.0",
         "1.0",
         "1.0",
         "105.0",
         "570.0",
         "400.0"
        ]
       ],
       "shape": {
        "columns": 15,
        "rows": 8
       }
      },
      "text/html": [
       "<div>\n",
       "<style scoped>\n",
       "    .dataframe tbody tr th:only-of-type {\n",
       "        vertical-align: middle;\n",
       "    }\n",
       "\n",
       "    .dataframe tbody tr th {\n",
       "        vertical-align: top;\n",
       "    }\n",
       "\n",
       "    .dataframe thead th {\n",
       "        text-align: right;\n",
       "    }\n",
       "</style>\n",
       "<table border=\"1\" class=\"dataframe\">\n",
       "  <thead>\n",
       "    <tr style=\"text-align: right;\">\n",
       "      <th></th>\n",
       "      <th>brand_id</th>\n",
       "      <th>loves_count</th>\n",
       "      <th>rating</th>\n",
       "      <th>reviews</th>\n",
       "      <th>price_usd</th>\n",
       "      <th>value_price_usd</th>\n",
       "      <th>sale_price_usd</th>\n",
       "      <th>limited_edition</th>\n",
       "      <th>new</th>\n",
       "      <th>online_only</th>\n",
       "      <th>out_of_stock</th>\n",
       "      <th>sephora_exclusive</th>\n",
       "      <th>child_count</th>\n",
       "      <th>child_max_price</th>\n",
       "      <th>child_min_price</th>\n",
       "    </tr>\n",
       "  </thead>\n",
       "  <tbody>\n",
       "    <tr>\n",
       "      <th>count</th>\n",
       "      <td>8494.000000</td>\n",
       "      <td>8.494000e+03</td>\n",
       "      <td>8216.000000</td>\n",
       "      <td>8216.000000</td>\n",
       "      <td>8494.000000</td>\n",
       "      <td>451.000000</td>\n",
       "      <td>270.000000</td>\n",
       "      <td>8494.000000</td>\n",
       "      <td>8494.000000</td>\n",
       "      <td>8494.000000</td>\n",
       "      <td>8494.000000</td>\n",
       "      <td>8494.000000</td>\n",
       "      <td>8494.000000</td>\n",
       "      <td>2754.000000</td>\n",
       "      <td>2754.000000</td>\n",
       "    </tr>\n",
       "    <tr>\n",
       "      <th>mean</th>\n",
       "      <td>5422.440546</td>\n",
       "      <td>2.917957e+04</td>\n",
       "      <td>4.194513</td>\n",
       "      <td>448.545521</td>\n",
       "      <td>51.655595</td>\n",
       "      <td>91.168537</td>\n",
       "      <td>20.207889</td>\n",
       "      <td>0.070285</td>\n",
       "      <td>0.071698</td>\n",
       "      <td>0.219096</td>\n",
       "      <td>0.073699</td>\n",
       "      <td>0.279374</td>\n",
       "      <td>1.631622</td>\n",
       "      <td>53.792023</td>\n",
       "      <td>39.665802</td>\n",
       "    </tr>\n",
       "    <tr>\n",
       "      <th>std</th>\n",
       "      <td>1709.595957</td>\n",
       "      <td>6.609212e+04</td>\n",
       "      <td>0.516694</td>\n",
       "      <td>1101.982529</td>\n",
       "      <td>53.669234</td>\n",
       "      <td>79.195631</td>\n",
       "      <td>24.327352</td>\n",
       "      <td>0.255642</td>\n",
       "      <td>0.258002</td>\n",
       "      <td>0.413658</td>\n",
       "      <td>0.261296</td>\n",
       "      <td>0.448718</td>\n",
       "      <td>5.379470</td>\n",
       "      <td>58.765894</td>\n",
       "      <td>38.685720</td>\n",
       "    </tr>\n",
       "    <tr>\n",
       "      <th>min</th>\n",
       "      <td>1063.000000</td>\n",
       "      <td>0.000000e+00</td>\n",
       "      <td>1.000000</td>\n",
       "      <td>1.000000</td>\n",
       "      <td>3.000000</td>\n",
       "      <td>0.000000</td>\n",
       "      <td>1.750000</td>\n",
       "      <td>0.000000</td>\n",
       "      <td>0.000000</td>\n",
       "      <td>0.000000</td>\n",
       "      <td>0.000000</td>\n",
       "      <td>0.000000</td>\n",
       "      <td>0.000000</td>\n",
       "      <td>3.000000</td>\n",
       "      <td>3.000000</td>\n",
       "    </tr>\n",
       "    <tr>\n",
       "      <th>25%</th>\n",
       "      <td>5333.000000</td>\n",
       "      <td>3.758000e+03</td>\n",
       "      <td>3.981725</td>\n",
       "      <td>26.000000</td>\n",
       "      <td>25.000000</td>\n",
       "      <td>45.000000</td>\n",
       "      <td>8.000000</td>\n",
       "      <td>0.000000</td>\n",
       "      <td>0.000000</td>\n",
       "      <td>0.000000</td>\n",
       "      <td>0.000000</td>\n",
       "      <td>0.000000</td>\n",
       "      <td>0.000000</td>\n",
       "      <td>22.000000</td>\n",
       "      <td>19.000000</td>\n",
       "    </tr>\n",
       "    <tr>\n",
       "      <th>50%</th>\n",
       "      <td>6157.500000</td>\n",
       "      <td>9.880000e+03</td>\n",
       "      <td>4.289350</td>\n",
       "      <td>122.000000</td>\n",
       "      <td>35.000000</td>\n",
       "      <td>67.000000</td>\n",
       "      <td>14.000000</td>\n",
       "      <td>0.000000</td>\n",
       "      <td>0.000000</td>\n",
       "      <td>0.000000</td>\n",
       "      <td>0.000000</td>\n",
       "      <td>0.000000</td>\n",
       "      <td>0.000000</td>\n",
       "      <td>32.000000</td>\n",
       "      <td>28.000000</td>\n",
       "    </tr>\n",
       "    <tr>\n",
       "      <th>75%</th>\n",
       "      <td>6328.000000</td>\n",
       "      <td>2.684125e+04</td>\n",
       "      <td>4.530525</td>\n",
       "      <td>418.000000</td>\n",
       "      <td>58.000000</td>\n",
       "      <td>108.500000</td>\n",
       "      <td>25.000000</td>\n",
       "      <td>0.000000</td>\n",
       "      <td>0.000000</td>\n",
       "      <td>0.000000</td>\n",
       "      <td>0.000000</td>\n",
       "      <td>1.000000</td>\n",
       "      <td>1.000000</td>\n",
       "      <td>59.000000</td>\n",
       "      <td>42.000000</td>\n",
       "    </tr>\n",
       "    <tr>\n",
       "      <th>max</th>\n",
       "      <td>8020.000000</td>\n",
       "      <td>1.401068e+06</td>\n",
       "      <td>5.000000</td>\n",
       "      <td>21281.000000</td>\n",
       "      <td>1900.000000</td>\n",
       "      <td>617.000000</td>\n",
       "      <td>320.000000</td>\n",
       "      <td>1.000000</td>\n",
       "      <td>1.000000</td>\n",
       "      <td>1.000000</td>\n",
       "      <td>1.000000</td>\n",
       "      <td>1.000000</td>\n",
       "      <td>105.000000</td>\n",
       "      <td>570.000000</td>\n",
       "      <td>400.000000</td>\n",
       "    </tr>\n",
       "  </tbody>\n",
       "</table>\n",
       "</div>"
      ],
      "text/plain": [
       "          brand_id   loves_count       rating       reviews    price_usd  \\\n",
       "count  8494.000000  8.494000e+03  8216.000000   8216.000000  8494.000000   \n",
       "mean   5422.440546  2.917957e+04     4.194513    448.545521    51.655595   \n",
       "std    1709.595957  6.609212e+04     0.516694   1101.982529    53.669234   \n",
       "min    1063.000000  0.000000e+00     1.000000      1.000000     3.000000   \n",
       "25%    5333.000000  3.758000e+03     3.981725     26.000000    25.000000   \n",
       "50%    6157.500000  9.880000e+03     4.289350    122.000000    35.000000   \n",
       "75%    6328.000000  2.684125e+04     4.530525    418.000000    58.000000   \n",
       "max    8020.000000  1.401068e+06     5.000000  21281.000000  1900.000000   \n",
       "\n",
       "       value_price_usd  sale_price_usd  limited_edition          new  \\\n",
       "count       451.000000      270.000000      8494.000000  8494.000000   \n",
       "mean         91.168537       20.207889         0.070285     0.071698   \n",
       "std          79.195631       24.327352         0.255642     0.258002   \n",
       "min           0.000000        1.750000         0.000000     0.000000   \n",
       "25%          45.000000        8.000000         0.000000     0.000000   \n",
       "50%          67.000000       14.000000         0.000000     0.000000   \n",
       "75%         108.500000       25.000000         0.000000     0.000000   \n",
       "max         617.000000      320.000000         1.000000     1.000000   \n",
       "\n",
       "       online_only  out_of_stock  sephora_exclusive  child_count  \\\n",
       "count  8494.000000   8494.000000        8494.000000  8494.000000   \n",
       "mean      0.219096      0.073699           0.279374     1.631622   \n",
       "std       0.413658      0.261296           0.448718     5.379470   \n",
       "min       0.000000      0.000000           0.000000     0.000000   \n",
       "25%       0.000000      0.000000           0.000000     0.000000   \n",
       "50%       0.000000      0.000000           0.000000     0.000000   \n",
       "75%       0.000000      0.000000           1.000000     1.000000   \n",
       "max       1.000000      1.000000           1.000000   105.000000   \n",
       "\n",
       "       child_max_price  child_min_price  \n",
       "count      2754.000000      2754.000000  \n",
       "mean         53.792023        39.665802  \n",
       "std          58.765894        38.685720  \n",
       "min           3.000000         3.000000  \n",
       "25%          22.000000        19.000000  \n",
       "50%          32.000000        28.000000  \n",
       "75%          59.000000        42.000000  \n",
       "max         570.000000       400.000000  "
      ]
     },
     "execution_count": 5,
     "metadata": {},
     "output_type": "execute_result"
    }
   ],
   "source": [
    "df.select_dtypes(include=['number']).describe()"
   ]
  },
  {
   "cell_type": "code",
   "execution_count": 6,
   "id": "f8eac413",
   "metadata": {},
   "outputs": [],
   "source": [
    "df[['rating','reviews']] = df[['rating','reviews']].fillna(0)\n",
    "df[['child_max_price','child_min_price']] = df[['child_max_price','child_min_price']].fillna(0)\n",
    "df[['value_price_usd','sale_price_usd']] = df[['value_price_usd','sale_price_usd']].fillna(-1)"
   ]
  },
  {
   "cell_type": "markdown",
   "id": "1e567aec",
   "metadata": {},
   "source": [
    "## Categorical columns"
   ]
  },
  {
   "cell_type": "code",
   "execution_count": 7,
   "id": "68a5b319",
   "metadata": {},
   "outputs": [
    {
     "data": {
      "application/vnd.microsoft.datawrangler.viewer.v0+json": {
       "columns": [
        {
         "name": "index",
         "rawType": "object",
         "type": "string"
        },
        {
         "name": "product_id",
         "rawType": "object",
         "type": "unknown"
        },
        {
         "name": "product_name",
         "rawType": "object",
         "type": "unknown"
        },
        {
         "name": "brand_name",
         "rawType": "object",
         "type": "unknown"
        },
        {
         "name": "size",
         "rawType": "object",
         "type": "unknown"
        },
        {
         "name": "variation_type",
         "rawType": "object",
         "type": "unknown"
        },
        {
         "name": "variation_value",
         "rawType": "object",
         "type": "unknown"
        },
        {
         "name": "variation_desc",
         "rawType": "object",
         "type": "unknown"
        },
        {
         "name": "ingredients",
         "rawType": "object",
         "type": "unknown"
        },
        {
         "name": "highlights",
         "rawType": "object",
         "type": "unknown"
        },
        {
         "name": "primary_category",
         "rawType": "object",
         "type": "unknown"
        },
        {
         "name": "secondary_category",
         "rawType": "object",
         "type": "unknown"
        },
        {
         "name": "tertiary_category",
         "rawType": "object",
         "type": "unknown"
        }
       ],
       "conversionMethod": "pd.DataFrame",
       "ref": "73d8d39e-5659-453d-9d39-eb60b7f9ac0b",
       "rows": [
        [
         "count",
         "8494",
         "8494",
         "8494",
         "6863",
         "7050",
         "6896",
         "1250",
         "7549",
         "6287",
         "8494",
         "8486",
         "7504"
        ],
        [
         "unique",
         "8494",
         "8415",
         "304",
         "2055",
         "7",
         "2729",
         "935",
         "6538",
         "4417",
         "9",
         "41",
         "118"
        ],
        [
         "top",
         "P505461",
         "Discovery Set",
         "SEPHORA COLLECTION",
         "1.7 oz/ 50 mL",
         "Size",
         "1.7 oz/ 50 mL",
         "black",
         "['Sugarcane Alcohol Denat., Fragrance/Parfum*, Water/Eau/Aqua.']",
         "['Layerable Scent', 'Floral Scent']",
         "Skincare",
         "Women",
         "Perfume"
        ],
        [
         "freq",
         "1",
         "3",
         "352",
         "500",
         "4043",
         "374",
         "46",
         "15",
         "64",
         "2420",
         "875",
         "568"
        ]
       ],
       "shape": {
        "columns": 12,
        "rows": 4
       }
      },
      "text/html": [
       "<div>\n",
       "<style scoped>\n",
       "    .dataframe tbody tr th:only-of-type {\n",
       "        vertical-align: middle;\n",
       "    }\n",
       "\n",
       "    .dataframe tbody tr th {\n",
       "        vertical-align: top;\n",
       "    }\n",
       "\n",
       "    .dataframe thead th {\n",
       "        text-align: right;\n",
       "    }\n",
       "</style>\n",
       "<table border=\"1\" class=\"dataframe\">\n",
       "  <thead>\n",
       "    <tr style=\"text-align: right;\">\n",
       "      <th></th>\n",
       "      <th>product_id</th>\n",
       "      <th>product_name</th>\n",
       "      <th>brand_name</th>\n",
       "      <th>size</th>\n",
       "      <th>variation_type</th>\n",
       "      <th>variation_value</th>\n",
       "      <th>variation_desc</th>\n",
       "      <th>ingredients</th>\n",
       "      <th>highlights</th>\n",
       "      <th>primary_category</th>\n",
       "      <th>secondary_category</th>\n",
       "      <th>tertiary_category</th>\n",
       "    </tr>\n",
       "  </thead>\n",
       "  <tbody>\n",
       "    <tr>\n",
       "      <th>count</th>\n",
       "      <td>8494</td>\n",
       "      <td>8494</td>\n",
       "      <td>8494</td>\n",
       "      <td>6863</td>\n",
       "      <td>7050</td>\n",
       "      <td>6896</td>\n",
       "      <td>1250</td>\n",
       "      <td>7549</td>\n",
       "      <td>6287</td>\n",
       "      <td>8494</td>\n",
       "      <td>8486</td>\n",
       "      <td>7504</td>\n",
       "    </tr>\n",
       "    <tr>\n",
       "      <th>unique</th>\n",
       "      <td>8494</td>\n",
       "      <td>8415</td>\n",
       "      <td>304</td>\n",
       "      <td>2055</td>\n",
       "      <td>7</td>\n",
       "      <td>2729</td>\n",
       "      <td>935</td>\n",
       "      <td>6538</td>\n",
       "      <td>4417</td>\n",
       "      <td>9</td>\n",
       "      <td>41</td>\n",
       "      <td>118</td>\n",
       "    </tr>\n",
       "    <tr>\n",
       "      <th>top</th>\n",
       "      <td>P505461</td>\n",
       "      <td>Discovery Set</td>\n",
       "      <td>SEPHORA COLLECTION</td>\n",
       "      <td>1.7 oz/ 50 mL</td>\n",
       "      <td>Size</td>\n",
       "      <td>1.7 oz/ 50 mL</td>\n",
       "      <td>black</td>\n",
       "      <td>['Sugarcane Alcohol Denat., Fragrance/Parfum*,...</td>\n",
       "      <td>['Layerable Scent', 'Floral Scent']</td>\n",
       "      <td>Skincare</td>\n",
       "      <td>Women</td>\n",
       "      <td>Perfume</td>\n",
       "    </tr>\n",
       "    <tr>\n",
       "      <th>freq</th>\n",
       "      <td>1</td>\n",
       "      <td>3</td>\n",
       "      <td>352</td>\n",
       "      <td>500</td>\n",
       "      <td>4043</td>\n",
       "      <td>374</td>\n",
       "      <td>46</td>\n",
       "      <td>15</td>\n",
       "      <td>64</td>\n",
       "      <td>2420</td>\n",
       "      <td>875</td>\n",
       "      <td>568</td>\n",
       "    </tr>\n",
       "  </tbody>\n",
       "</table>\n",
       "</div>"
      ],
      "text/plain": [
       "       product_id   product_name          brand_name           size  \\\n",
       "count        8494           8494                8494           6863   \n",
       "unique       8494           8415                 304           2055   \n",
       "top       P505461  Discovery Set  SEPHORA COLLECTION  1.7 oz/ 50 mL   \n",
       "freq            1              3                 352            500   \n",
       "\n",
       "       variation_type variation_value variation_desc  \\\n",
       "count            7050            6896           1250   \n",
       "unique              7            2729            935   \n",
       "top              Size   1.7 oz/ 50 mL          black   \n",
       "freq             4043             374             46   \n",
       "\n",
       "                                              ingredients  \\\n",
       "count                                                7549   \n",
       "unique                                               6538   \n",
       "top     ['Sugarcane Alcohol Denat., Fragrance/Parfum*,...   \n",
       "freq                                                   15   \n",
       "\n",
       "                                 highlights primary_category  \\\n",
       "count                                  6287             8494   \n",
       "unique                                 4417                9   \n",
       "top     ['Layerable Scent', 'Floral Scent']         Skincare   \n",
       "freq                                     64             2420   \n",
       "\n",
       "       secondary_category tertiary_category  \n",
       "count                8486              7504  \n",
       "unique                 41               118  \n",
       "top                 Women           Perfume  \n",
       "freq                  875               568  "
      ]
     },
     "execution_count": 7,
     "metadata": {},
     "output_type": "execute_result"
    }
   ],
   "source": [
    "df.select_dtypes(include=\"object\").describe()"
   ]
  },
  {
   "cell_type": "code",
   "execution_count": 9,
   "id": "d73d3405",
   "metadata": {},
   "outputs": [],
   "source": [
    "df.to_csv('Data/processsed/product_clean.csv')"
   ]
  }
 ],
 "metadata": {
  "kernelspec": {
   "display_name": "Python 3",
   "language": "python",
   "name": "python3"
  },
  "language_info": {
   "codemirror_mode": {
    "name": "ipython",
    "version": 3
   },
   "file_extension": ".py",
   "mimetype": "text/x-python",
   "name": "python",
   "nbconvert_exporter": "python",
   "pygments_lexer": "ipython3",
   "version": "3.12.5"
  }
 },
 "nbformat": 4,
 "nbformat_minor": 5
}
